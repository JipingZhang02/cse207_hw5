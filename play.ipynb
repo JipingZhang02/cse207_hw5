{
 "cells": [
  {
   "cell_type": "code",
   "execution_count": 1,
   "metadata": {},
   "outputs": [],
   "source": [
    "from sage.all import *\n",
    "import struct\n",
    "import re\n",
    "import base64\n",
    "from Crypto.Cipher import AES\n",
    "from Crypto import Random"
   ]
  },
  {
   "cell_type": "code",
   "execution_count": 49,
   "metadata": {},
   "outputs": [],
   "source": [
    "PRINT_ON = True\n",
    "TQDM_ON = PRINT_ON\n",
    "\n",
    "def do_nothing(*args,**kwargs):\n",
    "    pass\n",
    "myprint = print if PRINT_ON else do_nothing\n",
    "\n",
    "if TQDM_ON:\n",
    "    from tqdm import tqdm\n",
    "    def my_tqdm(iterable1,*args,**kwargs):\n",
    "        return tqdm(iterable1,*args,**kwargs)\n",
    "else:\n",
    "    def my_tqdm(iterable1,*args,**kwargs):\n",
    "        return iterable1"
   ]
  },
  {
   "cell_type": "code",
   "execution_count": 82,
   "metadata": {},
   "outputs": [],
   "source": [
    "def floor_sqrt(num:int)->int:\n",
    "    if not isinstance(num,int):\n",
    "        raise ValueError(f\"type of num is {type(num)}\")\n",
    "    if num<0:\n",
    "        raise ValueError\n",
    "    if num<2:\n",
    "        return num\n",
    "    l,r = 1,num>>1\n",
    "    while l<r:\n",
    "        m = (l+r+1)>>1\n",
    "        if m*m>num:\n",
    "            r=m-1\n",
    "        else:\n",
    "            l=m\n",
    "    return l"
   ]
  },
  {
   "cell_type": "code",
   "execution_count": 3,
   "metadata": {},
   "outputs": [],
   "source": [
    "key_header = '-----BEGIN PRETTY BAD PUBLIC KEY BLOCK-----\\n'\n",
    "key_footer = '-----END PRETTY BAD PUBLIC KEY BLOCK-----\\n'\n",
    "\n",
    "def b64_enc(s):\n",
    "    return base64.encodebytes(s).decode(\"ascii\")\n",
    "\n",
    "def b64_dec(s):\n",
    "    return base64.b64decode(s)\n",
    "\n",
    "# Generate ElGamal public key (p,g,y=g^x mod p) in standardized PBP Diffie-Hellman group\n",
    "def gen_public_key():\n",
    "    p = 0x3cf2a66e5e175738c9ce521e68361676ff9c508e53b6f5ef1f396139cbd422d9f90970526fd8720467f17999a6456555dda84aa671376ddbe180902535266d383\n",
    "    R = Integers(p)\n",
    "    g = R(2)\n",
    "    x = ZZ.random_element(2**128)\n",
    "    y = g**x\n",
    "\n",
    "    key = int_to_mpi(p)+int_to_mpi(g)+int_to_mpi(y)\n",
    "    return key_header + b64_enc(key) + key_footer\n",
    "\n",
    "# Our \"MPI\" format consists of 4-byte integer length l followed by l bytes of binary key\n",
    "def int_to_mpi(z):\n",
    "    s = int_to_binary(z)\n",
    "    return struct.pack('<I',len(s))+s\n",
    "\n",
    "# Get bytes representation of arbitrary-length long int\n",
    "def int_to_binary(z):\n",
    "    z = int(z)\n",
    "    return z.to_bytes((z.bit_length() + 7) // 8, 'big')\n",
    "\n",
    "# Read one MPI-formatted value beginning at s[index]\n",
    "# Returns value and index + bytes read.\n",
    "def parse_mpi(s,index):\n",
    "    length = struct.unpack('<I',s[index:index+4])[0]\n",
    "    xbytes = s[index+4:index+4+length]\n",
    "    z = Integer(int.from_bytes(xbytes, 'big'))\n",
    "    return z, index+4+length\n",
    "\n",
    "# An ElGamal public key consists of a magic header and footer enclosing the MPI-encoded values for p, g, and y.\n",
    "def parse_public_key(s):\n",
    "    data = re.search(key_header+\"(.*)\"+key_footer,s,flags=re.DOTALL).group(1)\n",
    "    data = b64_dec(data)\n",
    "    index = 0\n",
    "    p,index = parse_mpi(data,index)\n",
    "    g,index = parse_mpi(data,index)\n",
    "    y,index = parse_mpi(data,index)\n",
    "    return {'p':p, 'g':g, 'y':y}\n",
    "\n",
    "encrypt_header = '-----BEGIN PRETTY BAD ENCRYPTED MESSAGE-----\\n'\n",
    "encrypt_footer = '-----END PRETTY BAD ENCRYPTED MESSAGE-----\\n'\n",
    "\n",
    "# PKCS 7 pad message.\n",
    "def pad(s,blocksize=AES.block_size):\n",
    "    n = blocksize-(len(s)%blocksize)\n",
    "    return s+bytes([n]*n)\n",
    "\n",
    "# Encrypt string s using ElGamal encryption with AES in CBC mode.\n",
    "# Generate a 128-bit symmetric key, encrypt it using ElGamal, and prepend the MPI-encoded ElGamal ciphertext to the AES-encrypted ciphertext of the message.\n",
    "def encrypt(pubkey,s):\n",
    "    p = pubkey['p']; R = Integers(p)\n",
    "    g = R(pubkey['g']); y = R(pubkey['y'])\n",
    "    k = ZZ.random_element(2**128)\n",
    "    m = ZZ.random_element(2**128)\n",
    "\n",
    "    output = int_to_mpi(g**k)+int_to_mpi(m*(y**k))\n",
    "\n",
    "    aeskey = int_to_binary(m)\n",
    "    iv = Random.new().read(AES.block_size)\n",
    "    cipher = AES.new(aeskey, AES.MODE_CBC, iv)\n",
    "\n",
    "    output += iv + cipher.encrypt(pad(s))\n",
    "\n",
    "    return encrypt_header + base64.b64encode(output).decode(\"ascii\") + encrypt_footer"
   ]
  },
  {
   "cell_type": "code",
   "execution_count": 86,
   "metadata": {},
   "outputs": [],
   "source": [
    "def read_int(byte_arr:bytes):\n",
    "    if not isinstance(byte_arr,bytes):\n",
    "        raise ValueError\n",
    "    b_arr_list = list(byte_arr)\n",
    "    if len(b_arr_list)<4:\n",
    "        raise ValueError\n",
    "    big_int_byte_len = 0\n",
    "    for i in range(4):\n",
    "        big_int_byte_len += b_arr_list[i]<<(8*i)\n",
    "    if len(b_arr_list)<4+big_int_byte_len:\n",
    "        raise ValueError\n",
    "    res = 0\n",
    "    for byte_val in b_arr_list[4:4+big_int_byte_len]:\n",
    "        res = (res<<8)+byte_val\n",
    "    return res,bytes(b_arr_list[4+big_int_byte_len:])\n",
    "\n",
    "def fast_pow_with_mod(a:int,b:int,moder:int)->int:\n",
    "    res = 1\n",
    "    while b>0:\n",
    "        if b&1:\n",
    "            res = (res*a)%moder\n",
    "        a = (a*a)%moder\n",
    "        b>>=1\n",
    "    return res\n",
    "\n",
    "def extended_gcd(a, b):\n",
    "    if a == 0:\n",
    "        return (b, 0, 1)\n",
    "    else:\n",
    "        g, y, x = extended_gcd(b % a, a)\n",
    "        return (g, x - (b // a) * y, y)\n",
    "    \n",
    "def extended_euclidian(a,b):\n",
    "    if not isinstance(a,int):\n",
    "        raise ValueError\n",
    "    if not isinstance(b,int):\n",
    "        raise ValueError\n",
    "    if a<=0 or b<=0:\n",
    "        raise ValueError\n",
    "    num1,num2 = a,b\n",
    "    ka1,kb1,ka2,kb2=1,0,0,1\n",
    "    while num2>0:\n",
    "        floor_div_res = num1//num2\n",
    "        num3 = num1%num2\n",
    "        ka3,kb3=ka1-floor_div_res*ka2,kb1-floor_div_res*kb2\n",
    "        num1,ka1,kb1 = num2,ka2,kb2\n",
    "        num2,ka2,kb2 = num3,ka3,kb3\n",
    "    return num1,ka1,kb1\n",
    "\n",
    "def mod_inverse(a, m):\n",
    "    g, x, y = extended_euclidian(a, m)\n",
    "    if g != 1:\n",
    "        raise ValueError(f\"Modular inverse does not exist, a and m have gcd:{g}\")\n",
    "    else:\n",
    "        return x % m\n",
    "    \n",
    "def mod_inverse_of_prime(a,m_p):\n",
    "    a%=m_p\n",
    "    if a%m_p==0:\n",
    "        raise ValueError\n",
    "    return fast_pow_with_mod(a,m_p-2,m_p)\n",
    "\n",
    "def chinese_remainder_theorem(mode_infos):\n",
    "    N = 1\n",
    "    for (ni,resti) in mode_infos:\n",
    "        N *= ni\n",
    "    x = 0\n",
    "    for i in range(len(mode_infos)):\n",
    "        Ni = N // mode_infos[i][0]\n",
    "        x += mode_infos[i][1] * Ni * mod_inverse(Ni, mode_infos[i][0])\n",
    "\n",
    "    return x % N\n",
    "\n",
    "# n = [3, 7, 5]  # Moduli\n",
    "# a = [2, 3, 1]  # Remainders\n",
    "\n",
    "# result = chinese_remainder_theorem(list(zip(n, a)))\n",
    "# print(f\"The solution is {result}\")\n",
    "\n",
    "def babystep_giantstep(prime_p:int,generator_g:int,target_t:int,subgroup_order_q:int=-1)->int:\n",
    "    if subgroup_order_q==-1:\n",
    "        subgroup_order_q = prime_p-1\n",
    "    # myprint(f\"q={subgroup_order_q}\")\n",
    "    sqrt_q = floor_sqrt(subgroup_order_q)\n",
    "    giantstep_map = dict()\n",
    "    gstep_mul_factor = fast_pow_with_mod(generator_g,sqrt_q,prime_p)\n",
    "    curr_gstep_val = 1\n",
    "    for gstep in range(sqrt_q+1):\n",
    "        if curr_gstep_val in giantstep_map:\n",
    "            break\n",
    "        giantstep_map[curr_gstep_val] = gstep*sqrt_q\n",
    "        curr_gstep_val = (curr_gstep_val*gstep_mul_factor)%prime_p\n",
    "    babystep_val,babystep_cnt = target_t,0\n",
    "    while True:\n",
    "        if babystep_val in giantstep_map:\n",
    "            break\n",
    "        babystep_val = (babystep_val*generator_g)%prime_p\n",
    "        babystep_cnt+=1\n",
    "        # if babystep_cnt>=2*sqrt_q+2:\n",
    "        #     raise ValueError(f\"cant find x such that {generator_g} to x mod {prime_p} is {target_t}\")\n",
    "    res = giantstep_map[babystep_val]-babystep_cnt\n",
    "    while res<0:\n",
    "        res+=subgroup_order_q\n",
    "    return res\n",
    "\n"
   ]
  },
  {
   "cell_type": "code",
   "execution_count": 4,
   "metadata": {},
   "outputs": [],
   "source": [
    "with open(\"./key.pub\") as pubkey_file_in:\n",
    "    pubkey_data = pubkey_file_in.read()"
   ]
  },
  {
   "cell_type": "code",
   "execution_count": 5,
   "metadata": {},
   "outputs": [],
   "source": [
    "pubkey = parse_public_key(pubkey_data)"
   ]
  },
  {
   "cell_type": "code",
   "execution_count": 26,
   "metadata": {},
   "outputs": [],
   "source": [
    "p = pubkey['p']\n",
    "R = Integers(p)\n",
    "g = R(pubkey['g'])\n",
    "y = R(pubkey['y'])"
   ]
  },
  {
   "cell_type": "code",
   "execution_count": 74,
   "metadata": {},
   "outputs": [],
   "source": [
    "g = int(g)\n",
    "y = int(y)"
   ]
  },
  {
   "cell_type": "code",
   "execution_count": 16,
   "metadata": {},
   "outputs": [],
   "source": [
    "with open(\"./hw5.pdf.enc.asc\") as fin:\n",
    "    encrypted_data_str = fin.read()\n",
    "\n",
    "\n",
    "assert encrypted_data_str.startswith(encrypt_header)\n",
    "assert encrypted_data_str.endswith(encrypt_footer)\n",
    "encrypted_data_bytes = base64.b64decode(encrypted_data_str[len(encrypt_header):-len(encrypt_footer)])"
   ]
  },
  {
   "cell_type": "code",
   "execution_count": 75,
   "metadata": {},
   "outputs": [],
   "source": [
    "g_to_k_mod_p,tmp1 = read_int(encrypted_data_bytes)\n",
    "m_mul_y_to_k_mod_p,tmp2 = read_int(tmp1)\n",
    "iv = tmp2[:AES.block_size]\n",
    "enc_result = tmp2[AES.block_size:]"
   ]
  },
  {
   "cell_type": "code",
   "execution_count": 76,
   "metadata": {},
   "outputs": [
    {
     "data": {
      "text/plain": [
       "36934193793792246517855400109619261389211401180381385772600339939554213631567831187075159373338681979212660304786091717639882856292094523991823356925940036"
      ]
     },
     "execution_count": 76,
     "metadata": {},
     "output_type": "execute_result"
    }
   ],
   "source": [
    "g_to_k_mod_p"
   ]
  },
  {
   "cell_type": "code",
   "execution_count": 77,
   "metadata": {},
   "outputs": [],
   "source": [
    "assert (len(enc_result)//AES.block_size)*AES.block_size==len(enc_result)"
   ]
  },
  {
   "cell_type": "code",
   "execution_count": 88,
   "metadata": {},
   "outputs": [],
   "source": [
    "# g^k mod p = g_to_k_mod_p\n",
    "# we should get k\n",
    "# m*(y^k) mod p = output[1]\n",
    "# aes_key = m\n",
    "\n",
    "def pohlig_hellman_once(generator:int,mod_target:int,p:int,p_m_1_facor:int,t_this_factor:int):\n",
    "    generator = int(generator)\n",
    "    mod_target = int(mod_target)\n",
    "    p=int(p)\n",
    "    p_m_1_facor = int(p_m_1_facor)\n",
    "    t_this_factor = int(t_this_factor)\n",
    "    p_m_1 = p-1\n",
    "    xs = list()\n",
    "    alpha = generator\n",
    "    beta = mod_target\n",
    "    betas = list()\n",
    "    betas.append(beta)\n",
    "    q = p_m_1_facor\n",
    "    pm1_div_qt = p_m_1//q\n",
    "    alpha_to_pm1_div_qt = fast_pow_with_mod(alpha,pm1_div_qt,p)\n",
    "    beta_to_pm1_div_qt = fast_pow_with_mod(beta,pm1_div_qt,p)\n",
    "    #myprint(f\"alpha_0={alpha_to_pm1_div_qt},beta_0={beta_to_pm1_div_qt}\")\n",
    "    x0 = babystep_giantstep(p,alpha_to_pm1_div_qt,beta_to_pm1_div_qt,q)\n",
    "    xs.append(x0)\n",
    "    for i in range(1,t_this_factor):\n",
    "        pm1_div_qt//=q\n",
    "        beta_i = (betas[-1]*mod_inverse_of_prime(fast_pow_with_mod(alpha,xs[-1],p),p))%p\n",
    "        alpha_to_pm1_div_qt = fast_pow_with_mod(alpha,pm1_div_qt,p)\n",
    "        beta_to_pm1_div_qt = fast_pow_with_mod(beta_i,pm1_div_qt,p)\n",
    "        #myprint(f\"alpha_{i}={alpha_to_pm1_div_qt},beta_{i}={beta_to_pm1_div_qt}\")\n",
    "        x_i = babystep_giantstep(p,alpha_to_pm1_div_qt,beta_to_pm1_div_qt,q)\n",
    "        xs.append(x_i)\n",
    "    mod_res = 0\n",
    "    for x_i in xs[::-1]:\n",
    "        mod_res = mod_res*q+x_i\n",
    "    return (q**t_this_factor,mod_res)\n",
    "\n",
    "\n"
   ]
  },
  {
   "cell_type": "code",
   "execution_count": 79,
   "metadata": {},
   "outputs": [
    {
     "name": "stdout",
     "output_type": "stream",
     "text": [
      "alpha_0=40,beta_0=40\n",
      "q=2\n",
      "alpha_1=9,beta_1=1\n",
      "q=2\n",
      "alpha_2=38,beta_2=3\n",
      "q=2\n"
     ]
    },
    {
     "data": {
      "text/plain": [
       "(8, 5)"
      ]
     },
     "execution_count": 79,
     "metadata": {},
     "output_type": "execute_result"
    }
   ],
   "source": [
    "pohlig_hellman_once(7,12,41,2,3)"
   ]
  },
  {
   "cell_type": "code",
   "execution_count": 80,
   "metadata": {},
   "outputs": [],
   "source": [
    "p_m_1_factor_res = (p-1).factor()\n",
    "p_m_1_factor_info = list(dict(p_m_1_factor_res).items())"
   ]
  },
  {
   "cell_type": "code",
   "execution_count": 89,
   "metadata": {},
   "outputs": [
    {
     "name": "stdout",
     "output_type": "stream",
     "text": [
      "now calculate remider info of (2, 1)\n",
      "[(2, 0)]\n",
      "k=0(mod 2)\n",
      "now calculate remider info of (7, 1)\n",
      "[(2, 0), (7, 4)]\n",
      "k=4(mod 14)\n",
      "now calculate remider info of (11, 1)\n",
      "[(2, 0), (7, 4), (11, 10)]\n",
      "k=32(mod 154)\n",
      "now calculate remider info of (31, 1)\n",
      "[(2, 0), (7, 4), (11, 10), (31, 16)]\n",
      "k=2496(mod 4774)\n",
      "now calculate remider info of (41, 1)\n",
      "[(2, 0), (7, 4), (11, 10), (31, 16), (41, 30)]\n",
      "k=131394(mod 195734)\n",
      "now calculate remider info of (397, 1)\n",
      "[(2, 0), (7, 4), (11, 10), (31, 16), (41, 30), (397, 230)]\n",
      "k=51609436(mod 77706398)\n",
      "now calculate remider info of (2161, 1)\n",
      "[(2, 0), (7, 4), (11, 10), (31, 16), (41, 30), (397, 230), (2161, 33)]\n",
      "k=162302568460(mod 167923526078)\n",
      "now calculate remider info of (4441, 1)\n",
      "[(2, 0), (7, 4), (11, 10), (31, 16), (41, 30), (397, 230), (2161, 33), (4441, 956)]\n",
      "k=430046529328140(mod 745748379312398)\n",
      "now calculate remider info of (45413, 1)\n",
      "[(2, 0), (7, 4), (11, 10), (31, 16), (41, 30), (397, 230), (2161, 33), (4441, 956), (45413, 5532)]\n",
      "k=25065778823598337318(mod 33866671149713930374)\n",
      "now calculate remider info of (386963, 1)\n",
      "[(2, 0), (7, 4), (11, 10), (31, 16), (41, 30), (397, 230), (2161, 33), (4441, 956), (45413, 5532), (386963, 108771)]\n",
      "k=11420713244241103768709468(mod 13105148668106751639314162)\n",
      "now calculate remider info of (5935879, 1)\n",
      "[(2, 0), (7, 4), (11, 10), (31, 16), (41, 30), (397, 230), (2161, 33), (4441, 956), (45413, 5532), (386963, 108771), (5935879, 1945154)]\n",
      "k=50521722471726254912830351892316(mod 77790576770892836814020508618398)\n",
      "now calculate remider info of (151450661, 1)\n",
      "[(2, 0), (7, 4), (11, 10), (31, 16), (41, 30), (397, 230), (2161, 33), (4441, 956), (45413, 5532), (386963, 108771), (5935879, 1945154), (151450661, 146151875)]\n",
      "k=88664038532497167484465580102412327960(mod 11781434271522965695648540097812573861078)\n"
     ]
    }
   ],
   "source": [
    "moder = 1\n",
    "mod_infos = list()\n",
    "for tup in p_m_1_factor_info:\n",
    "    myprint(f\"now calculate remider info of {tup}\")\n",
    "    p_h_res_tup = pohlig_hellman_once(g,g_to_k_mod_p,p,tup[0],tup[1])\n",
    "    mod_infos.append(p_h_res_tup)\n",
    "    myprint(mod_infos)\n",
    "    mod_res = chinese_remainder_theorem(mod_infos)\n",
    "    moder*=p_h_res_tup[0]\n",
    "    myprint(f\"k={mod_res}(mod {moder})\")\n",
    "    if moder>=1<<128:\n",
    "        break"
   ]
  },
  {
   "cell_type": "code",
   "execution_count": 91,
   "metadata": {},
   "outputs": [
    {
     "data": {
      "text/plain": [
       "126.05968858772891"
      ]
     },
     "execution_count": 91,
     "metadata": {},
     "output_type": "execute_result"
    }
   ],
   "source": [
    "# from math import log2\n",
    "\n",
    "# log2(mod_res)"
   ]
  },
  {
   "cell_type": "code",
   "execution_count": 92,
   "metadata": {},
   "outputs": [],
   "source": [
    "k=mod_res\n",
    "m = (m_mul_y_to_k_mod_p*mod_inverse_of_prime(fast_pow_with_mod(y,k,p),p))%p"
   ]
  },
  {
   "cell_type": "code",
   "execution_count": null,
   "metadata": {},
   "outputs": [],
   "source": [
    "aeskey = int_to_binary(m)\n",
    "cipher = AES.new(aeskey, AES.MODE_CBC, iv)\n",
    "origin_msg = cipher.decrypt(enc_result)\n",
    "\n",
    "with open(\"./hw5.pdf\",\"wb+\") as fout:\n",
    "    fout.write(origin_msg)"
   ]
  }
 ],
 "metadata": {
  "kernelspec": {
   "display_name": "sage",
   "language": "python",
   "name": "python3"
  },
  "language_info": {
   "codemirror_mode": {
    "name": "ipython",
    "version": 3
   },
   "file_extension": ".py",
   "mimetype": "text/x-python",
   "name": "python",
   "nbconvert_exporter": "python",
   "pygments_lexer": "ipython3",
   "version": "3.9.18"
  }
 },
 "nbformat": 4,
 "nbformat_minor": 2
}
